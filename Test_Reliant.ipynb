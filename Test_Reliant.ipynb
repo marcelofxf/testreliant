{
 "cells": [
  {
   "cell_type": "markdown",
   "id": "c4792130-1214-41ca-acaf-743a17f19956",
   "metadata": {},
   "source": [
    "# <b>Test Plan</b> \n",
    "### 1 - <b>Introduction</b>\n",
    "The Test Plan has been created to communicate the test approach to team members. \n",
    "### 1.1 - Objectives\n",
    "Testing a git history visualization and merge features are the main objectives of this test plan.\n",
    "### 1.2 - Team Members\n",
    "\n",
    "<table>\n",
    "    <tr>\n",
    "        <th>Resource Name</th>\n",
    "        <th>Role</th>\n",
    "    </tr>\n",
    "    <tr>\n",
    "        <td>Marcelo Xavier</td>\n",
    "        <td>QA</td>\n",
    "    </tr>\n",
    "    <tr>\n",
    "        <td>Talita Menezes</td>\n",
    "        <td>PM</td>\n",
    "    </tr>\n",
    "</table>\n",
    "\n",
    "\n",
    "### 2 - <b>Scope</b>\n",
    "The initial phase will include all ‘must have’ requirements. These and any other requirements that get included must all be tested:\n",
    "<ol>\n",
    "    <li>Visualize the git commit tree</li> \n",
    "    <li>Ensure all branches are available</li> \n",
    "    <li>Visualize the parents commits</li>\n",
    "    <li>Ensure that view should show the patch diff</li>\n",
    "    <li>Merge patches by dragging a git commit</li>\n",
    "    <li>Ensure that merge fails if there are any conflicts</li>\n",
    "</ol>\n",
    "\n",
    "### 3 - <b>Test Approach</b>\n",
    "### 3.1 - Functional Testing\n",
    "Functional testing will be executed according to the scope above on this document. \n",
    "### 3.2 - Test Automation\n",
    "Automated unit tests are part of the development process, but <b>no automated</b> functional tests are planned at this time.\n",
    "### 3.2 - Exploratoty Testing\n",
    "The test will be executed \"out side the box\", without any script/steps, based in a commom user experience. \n",
    "\n",
    "### 4 - <b>Test Environment</b>\n",
    "All tests have been run in:\n",
    "\n",
    "<ol>\n",
    "    <li>Ubuntu 20.04</li> \n",
    "    <li>Firefox Browser 87.0</li> \n",
    "    <li>Chromium 96.0.4664.45</li>\n",
    "</ol>\n",
    "\n",
    "# <b>Test Cases</b> \n",
    "\n",
    "<ol>\n",
    "<li>Check if git tree is visible. ✅</li>\n",
    "<li>Check if all branches are visible. ✅</li>\n",
    "<li>Check the error message in case of merge conflicts. ❌</li>\n",
    "<li>Check merging with a commit that belongs the same branche ❌</li>\n",
    "<li>Check for a error message when dragging a merge to the same commit. ❌</li>\n",
    "<li>Merge commit with itself ❌</li>\n",
    "<li>Check if a comimt diff is visible ✅</li>\n",
    "<li>Check if the system accept a commit without diff (git commit -mvazio --alow-empty) ✅</li>\n",
    "<li>Check if the first commit have no parents ✅</li>\n",
    "<li>Check if the merge commit have two parents ✅</li>\n",
    "<li>Merge must be canceled when user drag and hit alt+tab ✅</li>\n",
    "<li>Merge must be canceled when user drag a merge and drop at nowhere ✅</li>\n",
    "<li>Check if the system avoid a empty message for the merge ✅</li>\n",
    "<li>The system must avoid large messages in commit ⚠️</li>\n",
    "</ol>\n",
    "\n",
    "# <b>Bugs and gaps</b> \n",
    "\n",
    "### 1 - System instalation\n",
    "The system instalation was not ready to use. The dependencies was not explicit and clear, so the installation was not trivial at all \n",
    "### 2 - System don't show a error message (without git installed )\n",
    "The user need to have a git client in his machine. The git client absence is not reported by the system. As we can see below: "
   ]
  },
  {
   "cell_type": "markdown",
   "id": "24f214d8",
   "metadata": {},
   "source": [
    "<img src=\"System_no_git.png\">"
   ]
  },
  {
   "cell_type": "markdown",
   "id": "6b17b1b7",
   "metadata": {},
   "source": [
    "### 3 - System don't merge  at all\n",
    "The merge is a mandatory requirement to the system, but it's not work at all:"
   ]
  },
  {
   "cell_type": "markdown",
   "id": "be229403",
   "metadata": {},
   "source": [
    "<img src=\"merge_test.png\">"
   ]
  }
 ],
 "metadata": {
  "kernelspec": {
   "display_name": "",
   "name": ""
  },
  "language_info": {
   "name": ""
  }
 },
 "nbformat": 4,
 "nbformat_minor": 5
}
